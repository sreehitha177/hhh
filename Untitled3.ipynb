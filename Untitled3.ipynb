{
  "nbformat": 4,
  "nbformat_minor": 0,
  "metadata": {
    "colab": {
      "provenance": [],
      "authorship_tag": "ABX9TyMegQxMAB/Dj7VqkW2Auf9g",
      "include_colab_link": true
    },
    "kernelspec": {
      "name": "python3",
      "display_name": "Python 3"
    },
    "language_info": {
      "name": "python"
    }
  },
  "cells": [
    {
      "cell_type": "markdown",
      "metadata": {
        "id": "view-in-github",
        "colab_type": "text"
      },
      "source": [
        "<a href=\"https://colab.research.google.com/github/sreehitha177/hhh/blob/main/Untitled3.ipynb\" target=\"_parent\"><img src=\"https://colab.research.google.com/assets/colab-badge.svg\" alt=\"Open In Colab\"/></a>"
      ]
    },
    {
      "cell_type": "code",
      "execution_count": 20,
      "metadata": {
        "id": "PwqOZLpzbh3m"
      },
      "outputs": [],
      "source": [
        "import torch\n",
        "import math\n",
        "\n",
        "# def log_posterior(X, mu, Sigma, pi):\n",
        "#     \"\"\"\n",
        "#     Compute log P(Z=z | X=x_n) for a Gaussian Mixture Model.\n",
        "\n",
        "#     Parameters:\n",
        "#         X: Tensor of shape (N, 784) - input data.\n",
        "#         mu: Tensor of shape (10, 784) - cluster means.\n",
        "#         Sigma: Tensor of shape (10, 784, 784) - cluster covariances.\n",
        "#         pi: Tensor of shape (10, 1) - mixture proportions.\n",
        "\n",
        "#     Returns:\n",
        "#         Tensor of shape (N, 10) - log probabilities.\n",
        "#     \"\"\"\n",
        "#     N, D = X.shape\n",
        "#     K = mu.shape[0]  # Number of clusters\n",
        "\n",
        "#     # Precompute useful terms\n",
        "#     log_pi = torch.log(pi.squeeze())  # Shape (10,)\n",
        "#     Sigma_inv = torch.linalg.inv(Sigma)  # Shape (10, 784, 784)\n",
        "#     Sigma_det = torch.linalg.det(Sigma)  # Shape (10,)\n",
        "#     log_det_Sigma = torch.log(Sigma_det)  # Shape (10,)\n",
        "\n",
        "#     log_prob = torch.zeros((N, K))  # Output tensor\n",
        "\n",
        "#     for z in range(K):\n",
        "#         diff = X - mu[z]  # Shape (N, 784)\n",
        "#         term1 = -0.5 * (D * math.log(2 * math.pi) + log_det_Sigma[z])\n",
        "#         term2 = -0.5 * (diff @ Sigma_inv[z] * diff).sum(dim=1)  # Quadratic form\n",
        "#         log_prob[:, z] = log_pi[z] + term1 + term2\n",
        "\n",
        "#     # Normalize using log-sum-exp for numerical stability\n",
        "#     log_prob_x = torch.logsumexp(log_prob, dim=1, keepdim=True)  # Shape (N, 1)\n",
        "#     log_post = log_prob - log_prob_x  # Shape (N, 10)\n",
        "\n",
        "#     return log_post\n"
      ]
    },
    {
      "cell_type": "code",
      "source": [
        "def log_posterior(X, mu, Sigma, pi):\n",
        "    N, D = X.shape\n",
        "    K = mu.shape[0]\n",
        "\n",
        "    # Regularize covariance matrix to ensure positive definiteness\n",
        "    epsilon = 1e-6\n",
        "    Sigma = Sigma + torch.eye(Sigma.shape[-1]) * epsilon\n",
        "\n",
        "    # Precompute terms\n",
        "    log_pi = torch.log(torch.clamp(pi.squeeze(), min=epsilon))  # Avoid log(0)\n",
        "    Sigma_inv = torch.linalg.inv(Sigma)  # Inverse covariance\n",
        "    Sigma_det = torch.linalg.det(Sigma)  # Determinant\n",
        "    log_det_Sigma = torch.log(torch.clamp(Sigma_det, min=epsilon))  # Log determinant\n",
        "\n",
        "    log_prob = torch.zeros((N, K))  # Output tensor\n",
        "\n",
        "    for z in range(K):\n",
        "        diff = X - mu[z]  # Shape (N, 784)\n",
        "        term1 = -0.5 * (D * math.log(2 * math.pi) + log_det_Sigma[z])\n",
        "        term2 = -0.5 * (diff @ Sigma_inv[z] * diff).sum(dim=1)\n",
        "        log_prob[:, z] = log_pi[z] + term1 + term2\n",
        "\n",
        "    # Normalize using log-sum-exp\n",
        "    log_prob_x = torch.logsumexp(log_prob, dim=1, keepdim=True)\n",
        "    log_post = log_prob - log_prob_x\n",
        "\n",
        "    return log_post\n"
      ],
      "metadata": {
        "id": "SAMFtuGfAEJW"
      },
      "execution_count": 21,
      "outputs": []
    },
    {
      "cell_type": "code",
      "source": [
        "import numpy as np\n",
        "\n",
        "# Load data\n",
        "data = np.load('/content/mixture_data.npz')\n",
        "model = np.load('/content/mixture_model.npz')\n",
        "\n",
        "# print(data.files)\n",
        "# print(model.files)\n",
        "\n",
        "# print(data['X'].shape)\n",
        "# print(model['mu'].shape)\n",
        "# print(model['Sigma'].shape)\n",
        "# print(model['pi'].shape)\n",
        "\n",
        "# print(data['X'])\n",
        "# print(model['mu'])\n",
        "# print(model['Sigma'])\n",
        "# print(model['pi'])\n",
        "\n",
        "X = torch.tensor(data['X'], dtype=torch.float32)  # Shape (10, 784)\n",
        "mu = torch.tensor(model['mu'], dtype=torch.float32)  # Shape (10, 784)\n",
        "Sigma = torch.tensor(model['Sigma'], dtype=torch.float32)  # Shape (10, 784, 784)\n",
        "pi = torch.tensor(model['pi'], dtype=torch.float32)  # Shape (10, 1)\n",
        "\n",
        "# Compute log probabilities\n",
        "log_probs = log_posterior(X, mu, Sigma, pi)\n",
        "\n",
        "# Format the output table\n",
        "output_table = log_probs.numpy()\n",
        "print(np.round(output_table, 4))\n"
      ],
      "metadata": {
        "colab": {
          "base_uri": "https://localhost:8080/"
        },
        "id": "LX6vSsZldK-6",
        "outputId": "8ff5af00-7aa3-4f67-f273-8b54649b1f39"
      },
      "execution_count": 22,
      "outputs": [
        {
          "output_type": "stream",
          "name": "stdout",
          "text": [
            "[[ 0.0000000e+00 -1.4490413e+03 -1.2133790e+02 -1.8086990e+02\n",
            "  -3.7586850e+02 -2.6029459e+02 -2.6055621e+02 -6.0158801e+02\n",
            "  -2.5019270e+02 -3.5346121e+02]\n",
            " [-2.0523740e+02  0.0000000e+00 -8.5421700e+01 -1.1874310e+02\n",
            "  -8.4223297e+01 -1.4616409e+02 -2.7214090e+02 -1.9995700e+02\n",
            "  -2.2805099e+01 -1.8698030e+02]\n",
            " [-3.0925781e+02 -9.4687451e+02  0.0000000e+00 -1.8090610e+02\n",
            "  -3.2771011e+02 -2.7386020e+02 -4.2414221e+02 -5.3770880e+02\n",
            "  -1.9584380e+02 -5.1668219e+02]\n",
            " [-1.8257629e+02 -8.3698218e+02 -8.0354401e+01  0.0000000e+00\n",
            "  -4.1945560e+02 -1.4189560e+02 -7.3004779e+02 -5.0164871e+02\n",
            "  -6.2616199e+01 -2.5344749e+02]\n",
            " [-5.2869360e+02 -1.2784456e+03 -2.8783179e+02 -2.5842789e+02\n",
            "   0.0000000e+00 -4.5504941e+02 -7.1718738e+02 -1.5763370e+02\n",
            "  -3.9440979e+02 -1.8817790e+02]\n",
            " [-2.1799440e+02 -6.4717310e+02 -1.4254111e+02 -9.6253004e+00\n",
            "  -3.4454999e+02 -9.9999997e-05 -6.5221899e+02 -4.0397180e+02\n",
            "  -7.0150803e+01 -3.2922919e+02]\n",
            " [-2.3335181e+02 -1.0722101e+03 -1.7255040e+02 -2.5294180e+02\n",
            "  -3.7669849e+02 -2.4477750e+02  0.0000000e+00 -7.1543719e+02\n",
            "  -2.7660172e+02 -5.7076172e+02]\n",
            " [-3.1450870e+02 -8.4264807e+02 -2.6409180e+02 -1.9041780e+02\n",
            "  -1.6402811e+02 -2.8424521e+02 -6.3332281e+02  0.0000000e+00\n",
            "  -1.7537531e+02 -3.9580898e+01]\n",
            " [-2.3405270e+02 -2.2075771e+02 -1.1240170e+02 -1.0624350e+02\n",
            "  -2.1278590e+02 -1.5676131e+02 -4.3224680e+02 -3.3470621e+02\n",
            "   0.0000000e+00 -2.8872061e+02]\n",
            " [-4.8912701e+02 -7.1154401e+02 -2.8521661e+02 -2.3032381e+02\n",
            "  -9.6140404e+01 -2.5148199e+02 -4.9094958e+02 -7.4055702e+01\n",
            "  -1.6065030e+02  0.0000000e+00]]\n"
          ]
        }
      ]
    },
    {
      "cell_type": "code",
      "source": [
        "def log_posterior_left(X, mu, Sigma, pi, indices):\n",
        "    \"\"\"\n",
        "    Compute log P(Z=z | X=x_n,l) for the left half of the image.\n",
        "\n",
        "    Parameters:\n",
        "        X: Tensor of shape (N, 784) - input data.\n",
        "        mu: Tensor of shape (10, 784) - cluster means.\n",
        "        Sigma: Tensor of shape (10, 784, 784) - cluster covariances.\n",
        "        pi: Tensor of shape (10, 1) - mixture proportions.\n",
        "        indices: Tensor of indices for the left half of the image.\n",
        "\n",
        "    Returns:\n",
        "        Tensor of shape (N, 10) - log probabilities.\n",
        "    \"\"\"\n",
        "    X_left = X[:, indices]  # Select left half pixels\n",
        "    mu_left = mu[:, indices]  # Adjust means\n",
        "    Sigma_left = Sigma[:, indices, :][:, :, indices]  # Adjust covariance matrices\n",
        "\n",
        "    return log_posterior(X_left, mu_left, Sigma_left, pi)\n"
      ],
      "metadata": {
        "id": "mrdV_jJSpR1W"
      },
      "execution_count": 23,
      "outputs": []
    },
    {
      "cell_type": "code",
      "source": [
        "left_indices = torch.arange(392)  # Indices for left half\n",
        "log_probs_left = log_posterior_left(X, mu, Sigma, pi, left_indices)\n",
        "\n",
        "# Format the output table\n",
        "output_table_left = log_probs_left.numpy()\n",
        "print(np.round(output_table_left, 4))\n"
      ],
      "metadata": {
        "colab": {
          "base_uri": "https://localhost:8080/"
        },
        "id": "9izTrgjRrNDW",
        "outputId": "aaec1a6a-f5c3-4bbd-f745-50d20df7da93"
      },
      "execution_count": 24,
      "outputs": [
        {
          "output_type": "stream",
          "name": "stdout",
          "text": [
            "[[ 0.000000e+00 -6.397985e+02 -6.065180e+01 -1.045065e+02 -7.825170e+01\n",
            "  -1.701527e+02 -1.415796e+02 -2.505657e+02 -5.975220e+01 -1.191777e+02]\n",
            " [-5.626850e+01 -0.000000e+00 -2.794870e+01 -2.147520e+01 -2.426430e+01\n",
            "  -6.645190e+01 -6.782190e+01 -1.290239e+02 -1.089110e+01 -7.796000e+01]\n",
            " [-2.453350e+01 -2.283005e+02 -6.770000e-02 -9.255800e+00 -3.833030e+01\n",
            "  -1.013166e+02 -1.902393e+02 -2.438320e+01 -2.727300e+00 -1.069990e+01]\n",
            " [-6.488020e+01 -3.568331e+02 -1.086860e+01 -3.250000e-02 -9.692220e+01\n",
            "  -1.100251e+02 -2.473572e+02 -1.667924e+02 -3.443100e+00 -7.647750e+01]\n",
            " [-1.765778e+02 -5.130408e+02 -1.265878e+02 -1.020840e+02  0.000000e+00\n",
            "  -2.907932e+02 -3.456262e+02 -3.584280e+01 -1.247374e+02 -1.358392e+02]\n",
            " [-8.505390e+01 -2.555688e+02 -8.521680e+01 -5.253130e+01 -1.018681e+02\n",
            "  -8.508900e+00 -2.446612e+02 -2.305468e+02 -2.000000e-04 -1.839394e+02]\n",
            " [-1.362167e+02 -4.523502e+02 -1.243000e+02 -1.498995e+02 -2.052042e+02\n",
            "  -1.232898e+02  0.000000e+00 -4.646506e+02 -1.745310e+02 -3.459166e+02]\n",
            " [-2.769870e+01 -5.560074e+02 -6.184760e+01 -5.958450e+01 -6.649080e+01\n",
            "  -1.074469e+02 -2.388558e+02 -1.000000e-04 -3.940240e+01 -9.812000e+00]\n",
            " [-8.963000e+01 -1.402849e+02 -5.927200e+01 -3.855130e+01 -6.492780e+01\n",
            "  -8.270250e+01 -1.829126e+02 -1.307961e+02  0.000000e+00 -7.830800e+01]\n",
            " [-4.726020e+01 -2.916863e+02 -4.597220e+01 -3.049510e+01 -4.634150e+01\n",
            "  -8.715550e+01 -1.549870e+02 -2.065100e+01 -2.554880e+01  0.000000e+00]]\n"
          ]
        }
      ]
    }
  ]
}