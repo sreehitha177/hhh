{
  "nbformat": 4,
  "nbformat_minor": 0,
  "metadata": {
    "colab": {
      "provenance": [],
      "authorship_tag": "ABX9TyMqVkLvTQ05kugELbhz04Gs",
      "include_colab_link": true
    },
    "kernelspec": {
      "name": "python3",
      "display_name": "Python 3"
    },
    "language_info": {
      "name": "python"
    }
  },
  "cells": [
    {
      "cell_type": "markdown",
      "metadata": {
        "id": "view-in-github",
        "colab_type": "text"
      },
      "source": [
        "<a href=\"https://colab.research.google.com/github/sreehitha177/hhh/blob/main/Untitled3.ipynb\" target=\"_parent\"><img src=\"https://colab.research.google.com/assets/colab-badge.svg\" alt=\"Open In Colab\"/></a>"
      ]
    },
    {
      "cell_type": "code",
      "execution_count": null,
      "metadata": {
        "id": "PwqOZLpzbh3m"
      },
      "outputs": [],
      "source": [
        "import torch\n",
        "import math\n",
        "\n",
        "def log_posterior(X, mu, Sigma, pi):\n",
        "    \"\"\"\n",
        "    Compute log P(Z=z | X=x_n) for a Gaussian Mixture Model.\n",
        "\n",
        "    Parameters:\n",
        "        X: Tensor of shape (N, 784) - input data.\n",
        "        mu: Tensor of shape (10, 784) - cluster means.\n",
        "        Sigma: Tensor of shape (10, 784, 784) - cluster covariances.\n",
        "        pi: Tensor of shape (10, 1) - mixture proportions.\n",
        "\n",
        "    Returns:\n",
        "        Tensor of shape (N, 10) - log probabilities.\n",
        "    \"\"\"\n",
        "    N, D = X.shape\n",
        "    K = mu.shape[0]  # Number of clusters\n",
        "\n",
        "    # Precompute useful terms\n",
        "    log_pi = torch.log(pi.squeeze())  # Shape (10,)\n",
        "    Sigma_inv = torch.linalg.inv(Sigma)  # Shape (10, 784, 784)\n",
        "    Sigma_det = torch.linalg.det(Sigma)  # Shape (10,)\n",
        "    log_det_Sigma = torch.log(Sigma_det)  # Shape (10,)\n",
        "\n",
        "    log_prob = torch.zeros((N, K))  # Output tensor\n",
        "\n",
        "    for z in range(K):\n",
        "        diff = X - mu[z]  # Shape (N, 784)\n",
        "        term1 = -0.5 * (D * math.log(2 * math.pi) + log_det_Sigma[z])\n",
        "        term2 = -0.5 * (diff @ Sigma_inv[z] * diff).sum(dim=1)  # Quadratic form\n",
        "        log_prob[:, z] = log_pi[z] + term1 + term2\n",
        "\n",
        "    # Normalize using log-sum-exp for numerical stability\n",
        "    log_prob_x = torch.logsumexp(log_prob, dim=1, keepdim=True)  # Shape (N, 1)\n",
        "    log_post = log_prob - log_prob_x  # Shape (N, 10)\n",
        "\n",
        "    return log_post\n"
      ]
    },
    {
      "cell_type": "code",
      "source": [
        "import numpy as np\n",
        "\n",
        "# Load data\n",
        "data = np.load('/content/mixture_data.npz')\n",
        "model = np.load('/content/mixture_model.npz')\n",
        "\n",
        "# print(data.files)\n",
        "# print(model.files)\n",
        "\n",
        "# print(data['X'].shape)\n",
        "# print(model['mu'].shape)\n",
        "# print(model['Sigma'].shape)\n",
        "# print(model['pi'].shape)\n",
        "\n",
        "# print(data['X'])\n",
        "# print(model['mu'])\n",
        "# print(model['Sigma'])\n",
        "# print(model['pi'])\n",
        "\n",
        "X = torch.tensor(data['X'], dtype=torch.float32)  # Shape (10, 784)\n",
        "mu = torch.tensor(model['mu'], dtype=torch.float32)  # Shape (10, 784)\n",
        "Sigma = torch.tensor(model['Sigma'], dtype=torch.float32)  # Shape (10, 784, 784)\n",
        "pi = torch.tensor(model['pi'], dtype=torch.float32)  # Shape (10, 1)\n",
        "\n",
        "# Compute log probabilities\n",
        "log_probs = log_posterior(X, mu, Sigma, pi)\n",
        "\n",
        "# Format the output table\n",
        "output_table = log_probs.numpy()\n",
        "print(np.round(output_table, 4))\n"
      ],
      "metadata": {
        "colab": {
          "base_uri": "https://localhost:8080/"
        },
        "id": "LX6vSsZldK-6",
        "outputId": "c7b780ca-cdf7-4616-8981-25ec8c9e4f6a"
      },
      "execution_count": null,
      "outputs": [
        {
          "output_type": "stream",
          "name": "stdout",
          "text": [
            "[[nan nan nan nan nan nan nan nan nan nan]\n",
            " [nan nan nan nan nan nan nan nan nan nan]\n",
            " [nan nan nan nan nan nan nan nan nan nan]\n",
            " [nan nan nan nan nan nan nan nan nan nan]\n",
            " [nan nan nan nan nan nan nan nan nan nan]\n",
            " [nan nan nan nan nan nan nan nan nan nan]\n",
            " [nan nan nan nan nan nan nan nan nan nan]\n",
            " [nan nan nan nan nan nan nan nan nan nan]\n",
            " [nan nan nan nan nan nan nan nan nan nan]\n",
            " [nan nan nan nan nan nan nan nan nan nan]]\n"
          ]
        }
      ]
    },
    {
      "cell_type": "code",
      "source": [
        "def log_posterior_left(X, mu, Sigma, pi, indices):\n",
        "    \"\"\"\n",
        "    Compute log P(Z=z | X=x_n,l) for the left half of the image.\n",
        "\n",
        "    Parameters:\n",
        "        X: Tensor of shape (N, 784) - input data.\n",
        "        mu: Tensor of shape (10, 784) - cluster means.\n",
        "        Sigma: Tensor of shape (10, 784, 784) - cluster covariances.\n",
        "        pi: Tensor of shape (10, 1) - mixture proportions.\n",
        "        indices: Tensor of indices for the left half of the image.\n",
        "\n",
        "    Returns:\n",
        "        Tensor of shape (N, 10) - log probabilities.\n",
        "    \"\"\"\n",
        "    X_left = X[:, indices]  # Select left half pixels\n",
        "    mu_left = mu[:, indices]  # Adjust means\n",
        "    Sigma_left = Sigma[:, indices, :][:, :, indices]  # Adjust covariance matrices\n",
        "\n",
        "    return log_posterior(X_left, mu_left, Sigma_left, pi)\n"
      ],
      "metadata": {
        "id": "mrdV_jJSpR1W"
      },
      "execution_count": null,
      "outputs": []
    },
    {
      "cell_type": "code",
      "source": [
        "left_indices = torch.arange(392)  # Indices for left half\n",
        "log_probs_left = log_posterior_left(X, mu, Sigma, pi, left_indices)\n",
        "\n",
        "# Format the output table\n",
        "output_table_left = log_probs_left.numpy()\n",
        "print(np.round(output_table_left, 4))\n"
      ],
      "metadata": {
        "colab": {
          "base_uri": "https://localhost:8080/"
        },
        "id": "9izTrgjRrNDW",
        "outputId": "861c2a79-6e67-4070-c52a-80d9ab6e58a2"
      },
      "execution_count": null,
      "outputs": [
        {
          "output_type": "stream",
          "name": "stdout",
          "text": [
            "[[nan nan nan nan nan nan nan nan nan nan]\n",
            " [nan nan nan nan nan nan nan nan nan nan]\n",
            " [nan nan nan nan nan nan nan nan nan nan]\n",
            " [nan nan nan nan nan nan nan nan nan nan]\n",
            " [nan nan nan nan nan nan nan nan nan nan]\n",
            " [nan nan nan nan nan nan nan nan nan nan]\n",
            " [nan nan nan nan nan nan nan nan nan nan]\n",
            " [nan nan nan nan nan nan nan nan nan nan]\n",
            " [nan nan nan nan nan nan nan nan nan nan]\n",
            " [nan nan nan nan nan nan nan nan nan nan]]\n"
          ]
        }
      ]
    }
  ]
}